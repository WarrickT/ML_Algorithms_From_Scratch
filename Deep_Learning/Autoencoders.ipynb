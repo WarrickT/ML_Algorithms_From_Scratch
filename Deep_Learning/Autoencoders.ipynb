{
 "cells": [
  {
   "cell_type": "markdown",
   "id": "5d3a5b39",
   "metadata": {},
   "source": [
    "## Pytorch Implementation \n"
   ]
  },
  {
   "cell_type": "markdown",
   "id": "c26772e5",
   "metadata": {},
   "source": [
    "An autoencoder model contains two components. "
   ]
  },
  {
   "cell_type": "markdown",
   "id": "6755f43c",
   "metadata": {},
   "source": [
    "Encoder: Takes an image as input and outputs a low-dimensional embedding (representatino) of the image. \n",
    "\n",
    "Decoder: Takes the low-dimensional embedding and reconstructs the image. "
   ]
  },
  {
   "cell_type": "code",
   "execution_count": 6,
   "id": "9024ab6f",
   "metadata": {},
   "outputs": [],
   "source": [
    "import torch\n",
    "import torch.nn as nn\n",
    "import torch.nn.functional as F\n",
    "import numpy as np\n"
   ]
  },
  {
   "cell_type": "markdown",
   "id": "5bf0a56a",
   "metadata": {},
   "source": [
    "Regular Convolution\n"
   ]
  },
  {
   "cell_type": "code",
   "execution_count": null,
   "id": "e33becb5",
   "metadata": {},
   "outputs": [],
   "source": [
    "conv = nn.Conv2d(in_channels=8, out_channels=8, kernel_size=5)\n",
    "x = torch.randn(2, 8, 64, 64)\n",
    "y = conv(x)\n",
    "y.shape"
   ]
  },
  {
   "cell_type": "markdown",
   "id": "52adfe8c",
   "metadata": {},
   "source": [
    "Transpose Convolution"
   ]
  },
  {
   "cell_type": "code",
   "execution_count": null,
   "id": "54eb3423",
   "metadata": {},
   "outputs": [],
   "source": [
    "convt = nn.ConvTranspose2d(in_channels=8, out_channels=8, kernel_size=5)\n",
    "convt(y).shape ## Should be the same as the other one"
   ]
  },
  {
   "cell_type": "markdown",
   "id": "36303cbc",
   "metadata": {},
   "source": []
  },
  {
   "cell_type": "markdown",
   "id": "cb36fa86",
   "metadata": {},
   "source": [
    "With transpose padding"
   ]
  },
  {
   "cell_type": "code",
   "execution_count": 3,
   "id": "42831021",
   "metadata": {},
   "outputs": [],
   "source": [
    "# can do padding, stride and output padding as well."
   ]
  },
  {
   "cell_type": "code",
   "execution_count": null,
   "id": "dc9ac07b",
   "metadata": {},
   "outputs": [],
   "source": []
  },
  {
   "cell_type": "markdown",
   "id": "c1883679",
   "metadata": {},
   "source": [
    "### Basic CNN Autoencoder implementation"
   ]
  },
  {
   "cell_type": "code",
   "execution_count": null,
   "id": "3608930a",
   "metadata": {},
   "outputs": [],
   "source": [
    "class Autoencoder(nn.Module):\n",
    "    def __init__(self):\n",
    "        super(Autoencoder, self).__init__()\n",
    "        self.encoder = nn.Sequential(\n",
    "            nn.Conv2d(1, 16, 3, stride=2, padding=1),\n",
    "            nn.ReLU(), \n",
    "            nn.Conv2d(16, 32, 3, stride=2, padding=1),\n",
    "            nn.ReLU(),\n",
    "            nn.Conv2d(32, 64, 7)\n",
    "        )\n",
    "        self.decoder = nn.Sequential(\n",
    "            nn.ConvTranspose2d(64, 32, 7),\n",
    "            nn.ReLU(),\n",
    "            nn.ConvTranspose2d(32, 16, 3, stride=2, padding=1, output_padding=1),\n",
    "            nn.ReLU(), \n",
    "            nn.ConvTranspose2d(16, 1, 3, stride=2, padding=1, output_padding=1),\n",
    "            nn.Sigmoid()\n",
    "        )\n",
    "    \n",
    "    # We MAY want to pause in the embedding space \n",
    "\n",
    "    def forward(self, x):\n",
    "        x = self.encoder(x)\n",
    "        x = self.decoder(x)\n",
    "        return x\n",
    "\n",
    "    # What if we want ot see what it looks like in the embedding layer?\n",
    "    def embed(self, x):\n",
    "        return self.encoder(x)\n",
    "\n",
    "    def decode(self, e):\n",
    "        return self.decoder(e)\n",
    "    "
   ]
  },
  {
   "cell_type": "markdown",
   "id": "61fae757",
   "metadata": {},
   "source": [
    "### Pre-training with Autoencoders"
   ]
  },
  {
   "cell_type": "markdown",
   "id": "1ac90495",
   "metadata": {},
   "source": [
    "Previously, we discussed how transfer learning could use features obtained from ImageNet data to improve classification on other image tasks. "
   ]
  },
  {
   "cell_type": "markdown",
   "id": "551c7a2b",
   "metadata": {},
   "source": [
    "If the new task is to detect new objects from similar images, then transfer learning makes sense."
   ]
  },
  {
   "cell_type": "markdown",
   "id": "573e5e97",
   "metadata": {},
   "source": [
    "You can achieve similar results by pretraining on large set of unlabeled data, same type of data, just missing labels."
   ]
  },
  {
   "cell_type": "markdown",
   "id": "0c874b65",
   "metadata": {},
   "source": []
  }
 ],
 "metadata": {
  "kernelspec": {
   "display_name": "venv",
   "language": "python",
   "name": "python3"
  },
  "language_info": {
   "codemirror_mode": {
    "name": "ipython",
    "version": 3
   },
   "file_extension": ".py",
   "mimetype": "text/x-python",
   "name": "python",
   "nbconvert_exporter": "python",
   "pygments_lexer": "ipython3",
   "version": "3.12.7"
  }
 },
 "nbformat": 4,
 "nbformat_minor": 5
}
