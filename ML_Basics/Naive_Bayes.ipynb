{
 "cells": [
  {
   "cell_type": "markdown",
   "id": "3806a6d4",
   "metadata": {},
   "source": [
    "# Naive Bayes Probabilistic Classifier"
   ]
  },
  {
   "cell_type": "markdown",
   "id": "c9d87d15",
   "metadata": {},
   "source": [
    "## No, \"Naive\" isn't a Mathematician"
   ]
  },
  {
   "cell_type": "markdown",
   "id": "9d1f4047",
   "metadata": {},
   "source": [
    "The word \"Naive\" refers to an actual **naive** assumption made the this algorithm that makes it work!"
   ]
  },
  {
   "cell_type": "markdown",
   "id": "be8ff659",
   "metadata": {},
   "source": [
    "\"Bayes\", however, was a mathematician. **Bayes' Theorem** is integral to the Naive Bayes algorithm"
   ]
  },
  {
   "cell_type": "markdown",
   "id": "b49da8d9",
   "metadata": {},
   "source": []
  },
  {
   "cell_type": "markdown",
   "id": "47b9b43a",
   "metadata": {},
   "source": [
    "## Bayes' Theorem"
   ]
  },
  {
   "cell_type": "markdown",
   "id": "41961655",
   "metadata": {},
   "source": [
    "$$\n",
    "P(C_k \\mid \\mathbf{x}) = \\frac{P(\\mathbf{x} \\mid C_k) \\cdot P(C_k)}{P(\\mathbf{x})}\n",
    "$$"
   ]
  },
  {
   "cell_type": "markdown",
   "id": "38d62f5b",
   "metadata": {},
   "source": [
    "Breaking down each parameter/variable\n",
    "\n",
    "- Posterior $P(C_k \\mid \\mathbf{x})$: \"Given features x, what is the chance this class is $C_k$  \"\n",
    "- Likelihood $P(\\mathbf{x} \\mid C_k)$: \"If the class were $C_k$  , how likely are these features?\"\n",
    "- Prior $P(C_k)$: \"How common is the class $C_k$   overall?\"\n",
    "- Evidence $P(\\mathbf{x})$: \"How likely is it to see these features in general?\"\n"
   ]
  },
  {
   "cell_type": "markdown",
   "id": "244d3be6",
   "metadata": {},
   "source": [
    "## What does Bayes Theorem actually do \n",
    "\n",
    "The goal of Bayes theorem is to allow us to **invert** a probability. "
   ]
  },
  {
   "cell_type": "markdown",
   "id": "6dd8b416",
   "metadata": {},
   "source": []
  },
  {
   "cell_type": "markdown",
   "id": "f16f9b25",
   "metadata": {},
   "source": [
    "## The \"Naive\" Assumption? "
   ]
  },
  {
   "cell_type": "markdown",
   "id": "6f36d950",
   "metadata": {},
   "source": [
    "The **Naive** Bayes assumes that all features are **conditionally independent** given the class"
   ]
  },
  {
   "cell_type": "markdown",
   "id": "bb395400",
   "metadata": {},
   "source": [
    "$$\n",
    "P(\\mathbf{x} \\mid C_k) = \\prod_{j=1}^{d} P(x_j \\mid C_k)\n",
    "$$"
   ]
  },
  {
   "cell_type": "markdown",
   "id": "979d9e51",
   "metadata": {},
   "source": [
    "Don't get intimidated --- this math expression just means: \n",
    "\n",
    "\"The probability of the entire feature vector x, given class $C_k$, is equal to the product of *individual probabilities* of each feature $x_j$, given the class.\""
   ]
  },
  {
   "cell_type": "markdown",
   "id": "edf37021",
   "metadata": {},
   "source": [
    "So let's say you are classifying animals. \n",
    "\n",
    "Let's say the feature vector is this\n",
    "\n",
    "\n",
    "$$\n",
    "\\mathbf{x} = [x_1, x_2, x_3] = [\\text{\"has fur\"}, \\text{\"has claws\"}, \\text{\"has tail\"}]\n",
    "$$\n",
    "\n",
    "And we want to compute this \n",
    "\n",
    "$$\n",
    "P(\\mathbf{x} \\mid C_k) = P(\\text{has fur, has claws, has tail} \\mid \\text{cat})\n",
    "$$\n",
    "\n",
    "This is the probability that an animal has fur, claws, and tail, given that it is a cat. \n",
    "\n",
    "Naive Bayes assumes that **each feature is conditionally independent** given the class.  \n",
    "So instead of computing a joint probability, we do:\n",
    "\n",
    "\n",
    "$$\n",
    "P(\\mathbf{x} \\mid \\text{cat}) = P(x_1 \\mid \\text{cat}) \\cdot P(x_2 \\mid \\text{cat}) \\cdot P(x_3 \\mid \\text{cat})\n",
    "$$\n",
    "\n",
    "Instead of a joint probability like \n",
    "\n",
    "$$\n",
    "P(\\text{has fur AND claws AND tail} \\mid \\text{cat})\n",
    "$$\n",
    "\n"
   ]
  },
  {
   "cell_type": "markdown",
   "id": "231076cf",
   "metadata": {},
   "source": [
    "## The Prediction Rule "
   ]
  },
  {
   "cell_type": "markdown",
   "id": "f2b15033",
   "metadata": {},
   "source": [
    "$$\n",
    "\\hat{y} = \\arg\\max_k \\; P(C_k) \\cdot \\prod_{j=1}^{d} P(x_j \\mid C_k)\n",
    "$$"
   ]
  },
  {
   "cell_type": "markdown",
   "id": "a841ccdd",
   "metadata": {},
   "source": [
    "## What is actually being \"trained\"? \n",
    "\n",
    "Let's say you have \n",
    "- $K$ classes \n",
    "- Each input $x$ = [$x_1,x_2,....,x_d$] had $d$ features\n",
    "- Assume $x_j$ is **conditionally independent** and **Gaussian** for each class\n",
    "\n",
    "\n",
    "So, for each class, we compute \n",
    "\n",
    "1. The Prior $P(C_k)$: The Frequency of class $C_k$ in the training set \n",
    "2. For each feature $x_j$ in that class we compute: \n",
    "\n",
    "The mean: \n",
    "\n",
    "$$\n",
    "\\mu_{jk} = \\text{mean of } x_j \\text{ for class } C_k \\\\\n",
    "$$\n",
    "\n",
    "where \n",
    "$$\n",
    "\\mu_{jk} = \\frac{1}{N_k} \\sum_{i: y_i = C_k} x_{ij}\n",
    "$$\n",
    "\n",
    "Then, the variance: \n",
    "\n",
    "$$\n",
    "\\sigma_{jk}^2 = \\text{variance of } x_j \\text{ for class } C_k\n",
    "$$\n",
    "\n",
    "where \n",
    "\n",
    "$$\n",
    "\\sigma_{jk}^2 = \\frac{1}{N_k} \\sum_{i: y_i = C_k} (x_{ij} - \\mu_{jk})^2\n",
    "$$\n",
    "\n",
    "So then, we're learning the **parameters of the distributions that describe each class**. \n",
    "\n",
    "These parameters let you score how well a new input fits each class. "
   ]
  },
  {
   "cell_type": "markdown",
   "id": "6237d680",
   "metadata": {},
   "source": [
    "## How do we apply this then?\n"
   ]
  },
  {
   "cell_type": "markdown",
   "id": "23ce5431",
   "metadata": {},
   "source": [
    "There are multiple ways we can apply this assumption dependin on the type of data we have. \n",
    "- Gaussian Naive Bayes --> Features are Gaussian-distributed\n",
    "- Multinomial Naive Bayes --> For discrete counts \n",
    "- Bernoulli Naive Bayes --> For binary features "
   ]
  },
  {
   "cell_type": "markdown",
   "id": "bd47fbab",
   "metadata": {},
   "source": [
    "## Implementing a Naive Bayes for a Gaussian Distribution"
   ]
  },
  {
   "cell_type": "markdown",
   "id": "186c7efa",
   "metadata": {},
   "source": [
    "### Import libraries "
   ]
  },
  {
   "cell_type": "code",
   "execution_count": 1,
   "id": "91cca24f",
   "metadata": {},
   "outputs": [],
   "source": [
    "import numpy as np\n",
    "from sklearn.datasets import make_classification\n",
    "from sklearn.model_selection import train_test_split"
   ]
  },
  {
   "cell_type": "markdown",
   "id": "43a8d1de",
   "metadata": {},
   "source": [
    "### Generate synthetic dataset"
   ]
  },
  {
   "cell_type": "code",
   "execution_count": 2,
   "id": "db2d4f4d",
   "metadata": {},
   "outputs": [],
   "source": [
    "# Create 2D Dataset with 2 classes \n",
    "\n",
    "X, y = make_classification(\n",
    "    n_samples=200, \n",
    "    n_features=2, \n",
    "    n_classes=2, \n",
    "    n_clusters_per_class=1,\n",
    "    n_informative=2, \n",
    "    n_redundant=0, \n",
    "    random_state=42\n",
    ")\n",
    "\n",
    "# Train/test split\n",
    "X_train, X_test, y_train, y_test = train_test_split(X, y, test_size=0.3, random_state=42)"
   ]
  },
  {
   "cell_type": "code",
   "execution_count": 4,
   "id": "22d3a7b1",
   "metadata": {},
   "outputs": [],
   "source": [
    "class GaussianNaiveBayes:\n",
    "    def fit(self, X, y):\n",
    "        self.classes = np.unique(y)\n",
    "        self.priors = {}\n",
    "        self.means = {}\n",
    "        self.vars = {}\n",
    "\n",
    "        for c in self.classes:\n",
    "            X_c = X[y == c]\n",
    "            # Compute the class prior \n",
    "            self.priors[c] = X_c.shape[0] / X.shape[0]\n",
    "            # Compute the mean of each feature for class C_k\n",
    "            self.means[c] = np.mean(X_c, axis=0)\n",
    "            # Compute the variance of each feature for Class C_kyes\n",
    "            self.vars[c] = np.var(X_c, axis=0)\n",
    "\n",
    "    # Compute the Gaussian Probability Density Function\n",
    "    def _pdf(self, class_idx, x):\n",
    "        mean = self.means[class_idx]\n",
    "        var = self.vars[class_idx]\n",
    "        numerator = np.exp(- (x - mean)**2/(2 * var))\n",
    "        denominator = np.sqrt(2 * np.pi * var)\n",
    "        return numerator / denominator\n",
    "\n",
    "    def _predict_single(self, x):\n",
    "        posteriors = []\n",
    "        for c in self.classes:\n",
    "            prior = np.log(self.priors[c])\n",
    "            likelihoods = self._pdf(c, x)\n",
    "            log_likelihood = np.sum(np.log(likelihoods))\n",
    "            posteriors.append(prior + log_likelihood)\n",
    "        return self.classes[np.argmax(posteriors)]\n",
    "    \n",
    "    def predict(self, X):\n",
    "        return np.array([self._predict_single(x) for x in X])\n",
    "\n"
   ]
  },
  {
   "cell_type": "markdown",
   "id": "9011beb8",
   "metadata": {},
   "source": [
    "## Evaluate this function"
   ]
  },
  {
   "cell_type": "code",
   "execution_count": 5,
   "id": "97935b69",
   "metadata": {},
   "outputs": [],
   "source": [
    "model = GaussianNaiveBayes()\n",
    "model.fit(X_train, y_train)"
   ]
  },
  {
   "cell_type": "code",
   "execution_count": 6,
   "id": "3dfa5e81",
   "metadata": {},
   "outputs": [],
   "source": [
    "y_pred = model.predict(X_test)\n"
   ]
  },
  {
   "cell_type": "code",
   "execution_count": 7,
   "id": "1443485a",
   "metadata": {},
   "outputs": [
    {
     "name": "stdout",
     "output_type": "stream",
     "text": [
      "Accuracy: 0.85\n"
     ]
    }
   ],
   "source": [
    "accuracy = (y_pred == y_test).mean()\n",
    "print(f\"Accuracy: {accuracy:.2f}\")"
   ]
  },
  {
   "cell_type": "markdown",
   "id": "b266bf4c",
   "metadata": {},
   "source": [
    "## Visualizing the Decision Boundary"
   ]
  },
  {
   "cell_type": "code",
   "execution_count": 9,
   "id": "036aa87e",
   "metadata": {},
   "outputs": [
    {
     "data": {
      "image/png": "[encoded data removed]",
      "text/plain": [
       "<Figure size 640x480 with 1 Axes>"
      ]
     },
     "metadata": {},
     "output_type": "display_data"
    }
   ],
   "source": [
    "import matplotlib.pyplot as plt\n",
    "\n",
    "def plot_decision_boundary(model, X, y, title=\"Gaussian Naive Bayes\"):\n",
    "    h = 0.01 # Step size int he mesh \n",
    "    x_min, x_max = X[:, 0].min() - 1, X[:, 0].max() + 1\n",
    "    y_min, y_max = X[:, 1].min() - 1, X[:, 1].max() + 1\n",
    "    xx, yy = np.meshgrid(np.arange(x_min, x_max, h),\n",
    "                         np.arange(y_min, y_max, h))\n",
    "    \n",
    "    grid_points = np.c_[xx.ravel(), yy.ravel()]\n",
    "    Z = model.predict(grid_points)\n",
    "    Z = Z.reshape(xx.shape)\n",
    "\n",
    "    # Plot the decision boundary\n",
    "    plt.contourf(xx, yy, Z, alpha=0.4, cmap=plt.cm.coolwarm)\n",
    "    plt.scatter(X[:, 0], X[:, 1], c=y, cmap=plt.cm.coolwarm, edgecolors='k')\n",
    "    plt.title(title)\n",
    "    plt.xlabel(\"Feature 1\")\n",
    "    plt.ylabel(\"Feature 2\")\n",
    "    plt.show()\n",
    "\n",
    "# Call the function with training data\n",
    "plot_decision_boundary(model, X_train, y_train, title=\"Gaussian Naive Bayes (Train Set)\")\n"
   ]
  },
  {
   "cell_type": "markdown",
   "id": "b3d39eed",
   "metadata": {},
   "source": []
  },
  {
   "cell_type": "markdown",
   "id": "48b5163c",
   "metadata": {},
   "source": []
  }
 ],
 "metadata": {
  "kernelspec": {
   "display_name": "venv",
   "language": "python",
   "name": "python3"
  },
  "language_info": {
   "codemirror_mode": {
    "name": "ipython",
    "version": 3
   },
   "file_extension": ".py",
   "mimetype": "text/x-python",
   "name": "python",
   "nbconvert_exporter": "python",
   "pygments_lexer": "ipython3",
   "version": "3.12.7"
  }
 },
 "nbformat": 4,
 "nbformat_minor": 5
}
