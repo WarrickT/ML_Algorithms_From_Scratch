{
 "cells": [
  {
   "cell_type": "markdown",
   "id": "3806a6d4",
   "metadata": {},
   "source": [
    "# Naive Bayes Probabilistic Classifier"
   ]
  },
  {
   "cell_type": "markdown",
   "id": "c9d87d15",
   "metadata": {},
   "source": [
    "## No, \"Naive\" isn't a name"
   ]
  },
  {
   "cell_type": "markdown",
   "id": "9d1f4047",
   "metadata": {},
   "source": [
    "The word \"Naive\" refers to an actual **naive** assumption made the this algorithm that makes it work!"
   ]
  },
  {
   "cell_type": "markdown",
   "id": "b49da8d9",
   "metadata": {},
   "source": []
  }
 ],
 "metadata": {
  "language_info": {
   "name": "python"
  }
 },
 "nbformat": 4,
 "nbformat_minor": 5
}
