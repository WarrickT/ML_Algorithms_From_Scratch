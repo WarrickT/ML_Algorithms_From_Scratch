{
 "cells": [
  {
   "cell_type": "markdown",
   "id": "93f86328",
   "metadata": {},
   "source": [
    "# Decision Trees"
   ]
  },
  {
   "cell_type": "markdown",
   "id": "6e00c9d0",
   "metadata": {},
   "source": [
    "## Remember Binary Trees in ECE244? Haha, me neither. "
   ]
  },
  {
   "cell_type": "markdown",
   "id": "a9581b01",
   "metadata": {},
   "source": [
    "Alright I need to stop goofing around in this notebook. \n",
    "\n"
   ]
  },
  {
   "cell_type": "markdown",
   "id": "94103f40",
   "metadata": {},
   "source": [
    "## What's the intuition? \n",
    "\n",
    "- Recursively split the data into \"purer\" subsets \n",
    "- Stop when \n",
    "    - Data is perfectly classified \n",
    "    - Max depth is reached \n",
    "    - No further improvement can be made \n",
    "\n",
    "\n",
    "Or, if you run of resources, which if you're a university student like me you likely will. "
   ]
  },
  {
   "attachments": {
    "image.png": {
     "image/png": "[encoded data removed]"
    }
   },
   "cell_type": "markdown",
   "id": "7d279e8f",
   "metadata": {},
   "source": [
    "A good example would be, let's say you're hungry and you want to hit up the McDonald's at your mall. \n",
    "\n",
    "You'd be thinking about the weather, the amount of time you have, and how hungry you are.\n",
    "\n",
    "![image.png](attachment:image.png)\n",
    "\n",
    "Weather, Time, and Hungry would be a feature in terms of Machine Learning. \n",
    "\n",
    "The intuition is simple, but HOW do we know if a decision is better than the other? "
   ]
  },
  {
   "cell_type": "markdown",
   "id": "47ac68d6",
   "metadata": {},
   "source": [
    "## Decision Tree structure \n",
    "\n",
    "A decision tree *partitions* the input space into **axis-aligned regions** using a binary tree. \n",
    "\n",
    "Each internal node splits the feature $x_ij$ with a threshold $t$: \n",
    "\n",
    "$$\n",
    "\\text{If } x_j \\leq t \\Rightarrow \\text{go left} \\\\\n",
    "\\text{Else } \\Rightarrow \\text{go right}\n",
    "$$"
   ]
  },
  {
   "cell_type": "markdown",
   "id": "a10acbc6",
   "metadata": {},
   "source": [
    "## Decision Tree Node"
   ]
  },
  {
   "cell_type": "markdown",
   "id": "07fb361a",
   "metadata": {},
   "source": [
    "This is a **decision point** in the tree\n",
    "\n",
    "- It represents a **subset of the data**\n",
    "- It either **splits data further** or **output a prediction**"
   ]
  },
  {
   "cell_type": "markdown",
   "id": "be23b56b",
   "metadata": {},
   "source": [
    "### Node Type 1: Internal Node \n",
    "\n",
    "- Contains a rule like $ \\text{if } x_j ≤ t$\n",
    "- **Splits** the data into two child nodes: \n",
    "    - Left: Samples satisfying this \n",
    "    - Right: Samples that don't\n",
    "\n",
    "The tree will learn **structure** and **branches** here\n",
    "\n",
    "### Node Type 2: Leaf Node\n",
    "\n",
    "- Terminal Node: Has no children \n",
    "- Stores the **final prediction**\n",
    "    - Classification: **Majority Class** \n",
    "    - Regression: **Mean Value**\n",
    "\n",
    "    "
   ]
  },
  {
   "cell_type": "markdown",
   "id": "d3c52f9b",
   "metadata": {},
   "source": [
    "## Traversal and Impurity Functions\n",
    "At each node, the goal is to **choose the best split** based on some impurity metric. \n",
    "\n",
    "There are two common options\n",
    "\n",
    "### 1. Gini Impurity \n",
    "$$\n",
    "G(D) = 1 - \\sum_{k=1}^{K} p_k^2\n",
    "$$\n",
    "\n",
    "- $D$ is the dataset at the node \n",
    "- $p_k$ is the **proportion** of class $k$ in $D$\n",
    "\n",
    "Minizming this means purer child nodes.\n",
    "\n",
    "### 2. Entropy and Information Gain \n",
    "\n",
    "Entropy is calculated as the following:\n",
    "\n",
    "$$\n",
    "H(D) = - \\sum_{k=1}^{K} p_k \\log_2 p_k\n",
    "$$\n",
    "\n",
    "Next, the information gain from a split is: \n",
    "\n",
    "$$\n",
    "\\text{Gain}(D, A) = H(D) - \\sum_{v \\in \\text{values}(A)} \\frac{|D_v|}{|D|} H(D_v)\n",
    "$$\n",
    "\n",
    "### 3. Mean Squared Error (Regression)\n",
    "$$\n",
    "\\text{MSE}(D) = \\frac{1}{|D|} \\sum_{i \\in D} (y_i - \\bar{y})^2\n",
    "$$\n"
   ]
  },
  {
   "cell_type": "markdown",
   "id": "a5ebad6e",
   "metadata": {},
   "source": [
    "## Training Procedure "
   ]
  },
  {
   "cell_type": "markdown",
   "id": "03eea56c",
   "metadata": {},
   "source": [
    "### At each node: \n",
    "- Try all possible features and thresholds \n",
    "- Choose the split with **best impurity reduction**\n",
    "\n",
    "### Stop when: \n",
    "- Max depth reached (This is a parameter you set)\n",
    "- Minimum samples per node\n",
    "- Node is pure"
   ]
  },
  {
   "cell_type": "markdown",
   "id": "15900ef3",
   "metadata": {},
   "source": [
    "### Prediction Logic \n",
    "\n",
    "- For classification: Return **majority class** in the leaf \n",
    "- For regression: Return **mean target value**"
   ]
  },
  {
   "cell_type": "markdown",
   "id": "76859e55",
   "metadata": {},
   "source": [
    "## Code Implementation of Decision Trees \n",
    "\n",
    "### Decision Node Class"
   ]
  },
  {
   "cell_type": "code",
   "execution_count": 1,
   "id": "8492cf31",
   "metadata": {},
   "outputs": [],
   "source": [
    "class DecisionNode: \n",
    "    def __init__(self, feature_index=None, threshold=None, left=None, right=None, value=None):\n",
    "        self.feature_index = feature_index\n",
    "        self.threshold = threshold\n",
    "        self.left = left\n",
    "        self.right = right\n",
    "        self.value = value"
   ]
  },
  {
   "cell_type": "markdown",
   "id": "96979b5c",
   "metadata": {},
   "source": [
    "### Gini Impurity Computation Helper Functions "
   ]
  },
  {
   "cell_type": "code",
   "execution_count": 2,
   "id": "10301e23",
   "metadata": {},
   "outputs": [],
   "source": [
    "\n",
    "\n",
    "def compute_Gini_split(y_left=None, y_right=None):\n",
    "    n = len(y_left) + len(y_right)\n",
    "    gini_left = compute_Gini_impurity(y_left)\n",
    "    gini_right = compute_Gini_impurity(y_right)\n",
    "    gini_split = (gini_left)*(len(y_left)/n) + (gini_right)*(len(y_right)/n)\n",
    "    return gini_split\n",
    "\n",
    "def compute_Gini_impurity(y):\n",
    "    gini = 1\n",
    "    size = len(y)\n",
    "\n",
    "    occurrences = {}\n",
    "\n",
    "    for element in y:\n",
    "        occurrences[element] = occurrences.get(element, 0) + 1\n",
    "    \n",
    "    for outcome in occurrences:\n",
    "        gini -= (occurrences[outcome]/size)*(occurrences[outcome]/size)\n",
    "    \n",
    "    return gini\n",
    "    "
   ]
  },
  {
   "cell_type": "markdown",
   "id": "4c8ebe6d",
   "metadata": {},
   "source": [
    "### build_tree function "
   ]
  },
  {
   "cell_type": "code",
   "execution_count": 3,
   "id": "e1e0f39f",
   "metadata": {},
   "outputs": [],
   "source": [
    "def build_tree(X=None, y=None, depth = 0, max_depth = 0, min_samples_split = 0):\n",
    "    # These are stopping conditions\n",
    "    # Purity\n",
    "    pure = (len(set(y)) == 1)\n",
    "    if pure:\n",
    "        return DecisionNode(value = y[0])\n",
    "    \n",
    "    # Too few samples or too deep down the tree\n",
    "    if(len(y) < min_samples_split) or (depth >= max_depth):\n",
    "        majority = most_common_label(y)\n",
    "        return DecisionNode(value=majority)\n",
    "\n",
    "    # Get the amount of features\n",
    "    num_features = X.shape[1]\n",
    "\n",
    "    best_gini = float('inf')\n",
    "    best_feature = None\n",
    "    best_threshold = None\n",
    "    best_splits = None\n",
    "\n",
    "    # For now, utilize, only taking midpoints of all the values\n",
    "    for feature in range(num_features):\n",
    "        samples_features = [sample[feature] for sample in X]        \n",
    "        samples_features.sort()\n",
    "\n",
    "        test_thresholds = return_thresholds(samples_features)\n",
    "\n",
    "        for threshold in test_thresholds:\n",
    "            X_left, y_left = []\n",
    "            X_right, y_right = []\n",
    "\n",
    "            for row in range(len(X)):\n",
    "                if X[row][feature] < threshold:\n",
    "                    X_left.append(X[row])\n",
    "                    y_left.append(y[row])\n",
    "                else:\n",
    "                    X_right.append(X[row])\n",
    "                    y_right.append(y[row])\n",
    "            \n",
    "            if (len(X_left) == 0) or (len(X_right) == 0):\n",
    "                continue\n",
    "        \n",
    "            current_gini_split = compute_Gini_split(y_left, y_right)\n",
    "            if(current_gini_split < best_gini):\n",
    "                best_gini = current_gini_split\n",
    "                best_feature = feature\n",
    "                best_threshold = threshold\n",
    "                best_splits = (X_left, y_left, X_right, y_right)\n",
    "\n",
    "\n",
    "\n",
    "        #Splitting logic based on thresholds\n",
    "\n",
    "    # Start splitting based on thresholds\n",
    "    # If no more good splits left\n",
    "\n",
    "def return_thresholds(samples_features=None):\n",
    "    test_thresholds = []\n",
    "\n",
    "    for feature in range(len(samples_features) - 1):\n",
    "        average = (samples_features[feature] + samples_features[feature + 1])/2.0\n",
    "        test_thresholds.append(average)\n",
    "        \n",
    "    return test_thresholds\n",
    "    \n",
    "\n",
    "def most_common_label(y=None):\n",
    "    counts = {}\n",
    "    for label in y:\n",
    "        counts[label] = counts.get(label, 0) + 1\n",
    "    \n",
    "    return max(counts, key=counts.get)"
   ]
  }
 ],
 "metadata": {
  "kernelspec": {
   "display_name": "venv",
   "language": "python",
   "name": "python3"
  },
  "language_info": {
   "codemirror_mode": {
    "name": "ipython",
    "version": 3
   },
   "file_extension": ".py",
   "mimetype": "text/x-python",
   "name": "python",
   "nbconvert_exporter": "python",
   "pygments_lexer": "ipython3",
   "version": "3.12.7"
  }
 },
 "nbformat": 4,
 "nbformat_minor": 5
}
