{
 "cells": [
  {
   "cell_type": "markdown",
   "id": "93f86328",
   "metadata": {},
   "source": [
    "# Decision Trees"
   ]
  },
  {
   "cell_type": "markdown",
   "id": "76859e55",
   "metadata": {},
   "source": [
    "## Decision Node Class"
   ]
  },
  {
   "cell_type": "code",
   "execution_count": null,
   "id": "8492cf31",
   "metadata": {
    "vscode": {
     "languageId": "plaintext"
    }
   },
   "outputs": [],
   "source": [
    "class DecisionNode: \n",
    "    def __init__(self, feature_index=None, threshold=None, left=None, right=None, value=None):\n",
    "        self.feature_index = feature_index\n",
    "        self.threshold = threshold\n",
    "        self.left = left\n",
    "        self.right = right\n",
    "        self.value = value"
   ]
  },
  {
   "cell_type": "markdown",
   "id": "96979b5c",
   "metadata": {},
   "source": [
    "## Gini Impurity Computation Helper Functions "
   ]
  },
  {
   "cell_type": "code",
   "execution_count": null,
   "id": "10301e23",
   "metadata": {
    "vscode": {
     "languageId": "plaintext"
    }
   },
   "outputs": [],
   "source": [
    "\n",
    "\n",
    "def compute_Gini_split(y_left=None, y_right=None):\n",
    "    n = len(y_left) + len(y_right)\n",
    "    gini_left = compute_Gini_impurity(y_left)\n",
    "    gini_right = compute_Gini_impurity(y_right)\n",
    "    gini_split = (gini_left)*(len(y_left)/n) + (gini_right)*(len(y_right)/n)\n",
    "    return gini_split\n",
    "\n",
    "def compute_Gini_impurity(y):\n",
    "    gini = 1\n",
    "    size = len(y)\n",
    "\n",
    "    occurrences = {}\n",
    "\n",
    "    for element in y:\n",
    "        occurrences[element] = occurrences.get(element, 0) + 1\n",
    "    \n",
    "    for outcome in occurrences:\n",
    "        gini -= (occurrences[outcome]/size)*(occurrences[outcome]/size)\n",
    "    \n",
    "    return gini\n",
    "    "
   ]
  },
  {
   "cell_type": "markdown",
   "id": "4c8ebe6d",
   "metadata": {},
   "source": [
    "## build_tree function "
   ]
  },
  {
   "cell_type": "code",
   "execution_count": null,
   "id": "e1e0f39f",
   "metadata": {
    "vscode": {
     "languageId": "plaintext"
    }
   },
   "outputs": [],
   "source": [
    "def build_tree(X=None, y=None, depth = 0, max_depth = 0, min_samples_split = 0):\n",
    "    # These are stopping conditions\n",
    "    # Purity\n",
    "    pure = (len(set(y)) == 1)\n",
    "    if pure:\n",
    "        return DecisionNode(value = y[0])\n",
    "    \n",
    "    # Too few samples or too deep down the tree\n",
    "    if(len(y) < min_samples_split) or (depth >= max_depth):\n",
    "        majority = most_common_label(y)\n",
    "        return DecisionNode(value=majority)\n",
    "\n",
    "    # Get the amount of features\n",
    "    num_features = X.shape[1]\n",
    "\n",
    "    best_gini = float('inf')\n",
    "    best_feature = None\n",
    "    best_threshold = None\n",
    "    best_splits = None\n",
    "\n",
    "    # For now, utilize, only taking midpoints of all the values\n",
    "    for feature in range(num_features):\n",
    "        samples_features = [sample[feature] for sample in X]        \n",
    "        samples_features.sort()\n",
    "\n",
    "        test_thresholds = return_thresholds(samples_features)\n",
    "\n",
    "        for threshold in test_thresholds:\n",
    "            X_left, y_left = []\n",
    "            X_right, y_right = []\n",
    "\n",
    "            for row in range(len(X)):\n",
    "                if X[row][feature] < threshold:\n",
    "                    X_left.append(X[row])\n",
    "                    y_left.append(y[row])\n",
    "                else:\n",
    "                    X_right.append(X[row])\n",
    "                    y_right.append(y[row])\n",
    "            \n",
    "            if (len(X_left) == 0) or (len(X_right) == 0):\n",
    "                continue\n",
    "        \n",
    "            current_gini_split = compute_Gini_split(y_left, y_right)\n",
    "            if(current_gini_split < best_gini):\n",
    "                best_gini = current_gini_split\n",
    "                best_feature = feature\n",
    "                best_threshold = threshold\n",
    "                best_splits = (X_left, y_left, X_right, y_right)\n",
    "\n",
    "\n",
    "\n",
    "        #Splitting logic based on thresholds\n",
    "\n",
    "    # Start splitting based on thresholds\n",
    "    # If no more good splits left\n",
    "\n",
    "def return_thresholds(samples_features=None):\n",
    "    test_thresholds = []\n",
    "\n",
    "    for feature in range(len(samples_features) - 1):\n",
    "        average = (samples_features[feature] + samples_features[feature + 1])/2.0\n",
    "        test_thresholds.append(average)\n",
    "        \n",
    "    return test_thresholds\n",
    "    \n",
    "\n",
    "def most_common_label(y=None):\n",
    "    counts = {}\n",
    "    for label in y:\n",
    "        counts[label] = counts.get(label, 0) + 1\n",
    "    \n",
    "    return max(counts, key=counts.get)"
   ]
  }
 ],
 "metadata": {
  "language_info": {
   "name": "python"
  }
 },
 "nbformat": 4,
 "nbformat_minor": 5
}
